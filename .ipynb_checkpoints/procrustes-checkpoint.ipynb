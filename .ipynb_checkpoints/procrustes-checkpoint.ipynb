{
 "cells": [
  {
   "cell_type": "markdown",
   "metadata": {},
   "source": [
    "### Procrustes\n",
    "\n",
    "Guilherme Franca (guifranca@gmail.com) 08/21/2016\n",
    "\n",
    "Procustes is a statistical method to analyse the distribution of shapes. It compares two objects by superimposing them through translation, rotation, and scaling (and possibly reflection). These are orthogonal transformations.\n",
    "\n",
    "Consider a set of 2D points $I = \\{ (x_i, y_i) \\}$, $i=1,\\dotsc,n$. Then one can performs the following transformations.\n",
    "\n",
    "**Translation + Scaling.** Let\n",
    "$$\n",
    "\\bar{x} = \\dfrac{1}{n}\\sum_{i=1}^n x_i, \\qquad\n",
    "\\bar{y} = \\dfrac{1}{n}\\sum_{i=1}^n y_i\n",
    "$$\n",
    "and \n",
    "$$\n",
    "s^2 = \\dfrac{1}{n} \\sum_{i=1}^n \\left\\{ (x_i-\\bar{x})^2 + (y_i - \\bar{y})^2 \\right\\}\n",
    "$$\n",
    "Then one performs\n",
    "$$\n",
    "x_i \\to \\dfrac{x_i - \\bar{x}}{s}, \\qquad y_i \\to \\dfrac{y_i - \\bar{y}}{s}\n",
    "$$\n",
    "This transformation translates the points to the origin and set the size of the object to $s=1$.\n",
    "\n",
    "**Rotation.** Let $J = \\{ (w_i, z_i) \\}$, for $i=1,\\dotsc,n$. One rotates $J$ as\n",
    "$$\n",
    "\\begin{pmatrix} u_i \\\\ v_i \\end{pmatrix} = \\begin{pmatrix} \\cos\\theta & -\\sin\\theta \\\\ \\sin\\theta & \\cos\\theta \\end{pmatrix} \\begin{pmatrix} w_i \\\\ z_i \\end{pmatrix}\n",
    "$$\n",
    "and minimizes the objective\n",
    "$$\n",
    "\\sum_{i=1}^n (u_i - x_i)^2 + (v_i - y_i)^2\n",
    "$$\n",
    "This yields\n",
    "$$\n",
    "\\tan\\theta = \\dfrac{\\sum_{i=1}^n (w_i y_i - z_i x_i)}{\\sum_{i=1}^n (w_i x_i + z_i y_i)}\n",
    "$$\n",
    "\n",
    "**Distance.** After the above transformations were performed the distance between two shapes is then given by\n",
    "$$\n",
    "d^2(J, I) = \\sum_{i=1}^n \\big\\{(u_i - x_i)^2 + (v_i - y_i)^2 \\big\\}\n",
    "$$\n",
    "This is usually called Procustes distance.\n",
    "\n",
    "Above we are comparing only two objects. For a set of objects one finds a reference object from which the other objects are superimposed to. The algorithm is:\n",
    "\n",
    "1. Arbitrarily choose a reference shape $I_0$.\n",
    "2. Superimpose all objects to $I_0$.\n",
    "3. Compute the mean shape $\\bar{I}$ of the current set of superimposed shapes.\n",
    "4. If $d^2(\\bar{I}, I_0) > c$, for some constant $c$, set $I_0 = \\bar{I}$ and continue from step 2 above."
   ]
  },
  {
   "cell_type": "code",
   "execution_count": 1,
   "metadata": {
    "collapsed": false
   },
   "outputs": [],
   "source": [
    "%matplotlib inline\n",
    "\n",
    "import matplotlib.pyplot as plt\n",
    "import matplotlib.cm as cm\n",
    "import numpy as np\n",
    "from sklearn import datasets\n",
    "from sklearn import metrics\n",
    "\n",
    "import kmedoids\n",
    "import kmeans\n",
    "import distance\n",
    "import clusval\n",
    "\n",
    "golden = (1+np.sqrt(5))/2"
   ]
  },
  {
   "cell_type": "code",
   "execution_count": 2,
   "metadata": {
    "collapsed": false
   },
   "outputs": [],
   "source": [
    "digits = datasets.load_digits()\n",
    "images = digits.images"
   ]
  },
  {
   "cell_type": "code",
   "execution_count": 3,
   "metadata": {
    "collapsed": false
   },
   "outputs": [
    {
     "name": "stdout",
     "output_type": "stream",
     "text": [
      "0.638985621405\n",
      "[[  0.00000000e+000   6.38985621e-001   4.99112852e-001]\n",
      " [  6.38985621e-001   6.93437465e-310   8.13842792e-001]\n",
      " [  4.99112852e-001   8.13842792e-001   6.93435414e-310]]\n"
     ]
    }
   ],
   "source": [
    "print distance.procrustes(images[0], images[1])\n",
    "print distance.procrustes_matrix(images[:3])"
   ]
  },
  {
   "cell_type": "code",
   "execution_count": 7,
   "metadata": {
    "collapsed": false
   },
   "outputs": [],
   "source": [
    "# picking some digits\n",
    "n = [100, 100, 100]\n",
    "d = [2, 7, 8]\n",
    "labels = np.concatenate([[i]*x for i, x in enumerate(n)])\n",
    "\n",
    "data = np.concatenate([\n",
    "        images[np.where(digits.target==i)][np.random.choice(range(173), m)] \n",
    "        for i, m in zip(d, n)\n",
    "])\n",
    "data2 = data.reshape((len(data), 64))\n",
    "\n",
    "D = distance.procrustes_matrix(data)\n",
    "J, M = kmedoids.kmedoids(len(n), D)\n",
    "\n",
    "JJ, MM = kmeans.kmeans(len(n), data, distance.procrustes)\n",
    "\n",
    "JJJ, MMM = kmeans.kmeans(len(n), data2, distance.euclidean)"
   ]
  },
  {
   "cell_type": "code",
   "execution_count": 8,
   "metadata": {
    "collapsed": false
   },
   "outputs": [
    {
     "data": {
      "image/png": "[encoded data removed]",
      "text/plain": [
       "<matplotlib.figure.Figure at 0x7fa658cee590>"
      ]
     },
     "metadata": {},
     "output_type": "display_data"
    }
   ],
   "source": [
    "coords = np.array([i for i in range(len(data))])\n",
    "\n",
    "fig = plt.figure(figsize=(30,4))\n",
    "ax = fig.add_subplot(111)\n",
    "ax.set_xticks([])\n",
    "ax.set_yticks([])\n",
    "\n",
    "s = 50\n",
    "cc = cm.spectral(np.linspace(0.1, 0.2, len(n)))\n",
    "for k in range(len(n)):\n",
    "    idx = np.where(labels==k)[0]\n",
    "    ax.scatter(coords[idx], [0]*len(idx), color=cc[k], s=s, marker='s')\n",
    "\n",
    "cc = cm.spectral(np.linspace(0.2, 0.4, len(n)))\n",
    "for k in range(len(n)):\n",
    "    idx = np.where(J==k)[0]\n",
    "    ax.scatter(coords[idx], [1]*len(idx), color=cc[k], s=s, marker='s')\n",
    "\n",
    "cc = cm.spectral(np.linspace(0.4, 0.6, len(n)))\n",
    "for k in range(len(n)):\n",
    "    idx = np.where(JJ==k)[0]\n",
    "    ax.scatter(coords[idx], [2]*len(idx), color=cc[k], s=s, marker='s')\n",
    "\n",
    "cc = cm.spectral(np.linspace(0.6, 0.8, len(n)))\n",
    "for k in range(len(n)):\n",
    "    idx = np.where(JJJ==k)[0]\n",
    "    ax.scatter(coords[idx], [3]*len(idx), color=cc[k], s=s, marker='s')\n",
    "    \n",
    "ax.set_xticks([])\n",
    "ax.set_yticks([])\n",
    "ax.set_ylim(-1, 4)\n",
    "fig.tight_layout()"
   ]
  },
  {
   "cell_type": "code",
   "execution_count": 9,
   "metadata": {
    "collapsed": false
   },
   "outputs": [
    {
     "name": "stdout",
     "output_type": "stream",
     "text": [
      "Misclassification Error\n",
      "\n",
      "K-Medoids/Procrustes: 0.176666666667\n",
      "K-Means/Procrustes: 0.19\n",
      "K-Means/Euclidean: 0.05\n"
     ]
    }
   ],
   "source": [
    "print \"Misclassification Error\\n\"\n",
    "print \"K-Medoids/Procrustes:\", clusval.class_error(labels, J)\n",
    "print \"K-Means/Procrustes:\", clusval.class_error(labels, JJ)\n",
    "print \"K-Means/Euclidean:\", clusval.class_error(labels, JJJ)"
   ]
  },
  {
   "cell_type": "code",
   "execution_count": 26,
   "metadata": {
    "collapsed": false
   },
   "outputs": [],
   "source": [
    "nr = range(10,50,10)\n",
    "kmedoids_procrustes, kmeans_procrustes, kmeans_sklearn_eucl = clusval.MNIST_eval_procrustes(clusval.class_error, numbers=[2,3,8], nrange=nr)"
   ]
  },
  {
   "cell_type": "code",
   "execution_count": 27,
   "metadata": {
    "collapsed": false
   },
   "outputs": [
    {
     "data": {
      "text/plain": [
       "<matplotlib.legend.Legend at 0x7fa658548950>"
      ]
     },
     "execution_count": 27,
     "metadata": {},
     "output_type": "execute_result"
    },
    {
     "data": {
      "image/png": "[encoded data removed]",
      "text/plain": [
       "<matplotlib.figure.Figure at 0x7fa65875be50>"
      ]
     },
     "metadata": {},
     "output_type": "display_data"
    }
   ],
   "source": [
    "fig = plt.figure()\n",
    "ax = fig.add_subplot(111)\n",
    "ax.plot(nr, kmedoids_procrustes, 'o--', color='blue', label='K-Medoids/Procrustes')\n",
    "ax.plot(nr, kmeans_procrustes, 'o--', color='red', label='K-Means/Procrustes')\n",
    "ax.plot(nr, kmeans_sklearn_eucl, 'o--', color='green', label='K-Means/Euclidean')\n",
    "ax.set_xlabel('N')\n",
    "ax.set_ylabel('Error')\n",
    "ax.legend(loc=0)"
   ]
  },
  {
   "cell_type": "code",
   "execution_count": 29,
   "metadata": {
    "collapsed": false
   },
   "outputs": [],
   "source": [
    "nr = range(10,60,10)\n",
    "kmedoids_procrustes, kmeans_procrustes, kmeans_sklearn_eucl = clusval.MNIST_eval_procrustes(clusval.class_error, numbers=[2,3,8], nrange=nr)"
   ]
  },
  {
   "cell_type": "code",
   "execution_count": 30,
   "metadata": {
    "collapsed": false
   },
   "outputs": [
    {
     "data": {
      "text/plain": [
       "<matplotlib.legend.Legend at 0x7fa658b80b90>"
      ]
     },
     "execution_count": 30,
     "metadata": {},
     "output_type": "execute_result"
    },
    {
     "data": {
      "image/png": "[encoded data removed]",
      "text/plain": [
       "<matplotlib.figure.Figure at 0x7fa658877210>"
      ]
     },
     "metadata": {},
     "output_type": "display_data"
    }
   ],
   "source": [
    "fig = plt.figure()\n",
    "ax = fig.add_subplot(111)\n",
    "ax.plot(nr, kmedoids_procrustes, 'o--', color='blue', label='K-Medoids/Procrustes')\n",
    "ax.plot(nr, kmeans_procrustes, 'o--', color='red', label='K-Means/Procrustes')\n",
    "ax.plot(nr, kmeans_sklearn_eucl, 'o--', color='green', label='K-Means/Euclidean')\n",
    "ax.set_xlabel('N')\n",
    "ax.set_ylabel('Error')\n",
    "ax.legend(loc=0)"
   ]
  },
  {
   "cell_type": "code",
   "execution_count": null,
   "metadata": {
    "collapsed": true
   },
   "outputs": [],
   "source": []
  }
 ],
 "metadata": {
  "kernelspec": {
   "display_name": "Python 2",
   "language": "python",
   "name": "python2"
  },
  "language_info": {
   "codemirror_mode": {
    "name": "ipython",
    "version": 2
   },
   "file_extension": ".py",
   "mimetype": "text/x-python",
   "name": "python",
   "nbconvert_exporter": "python",
   "pygments_lexer": "ipython2",
   "version": "2.7.6"
  }
 },
 "nbformat": 4,
 "nbformat_minor": 0
}
