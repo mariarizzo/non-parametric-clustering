{
 "cells": [
  {
   "cell_type": "code",
   "execution_count": 1,
   "metadata": {
    "collapsed": true
   },
   "outputs": [],
   "source": [
    "%matplotlib inline\n",
    "\n",
    "import numpy as np\n",
    "import matplotlib.pyplot as plt\n",
    "import matplotlib.cm as cm\n",
    "from sklearn.cluster import KMeans\n",
    "\n",
    "import kmedoids\n",
    "import kmeans\n",
    "import clusval\n",
    "import distance\n",
    "\n",
    "golden = (1+np.sqrt(5))/2"
   ]
  },
  {
   "cell_type": "code",
   "execution_count": 71,
   "metadata": {
    "collapsed": false
   },
   "outputs": [],
   "source": [
    "from parse_ellipses import parse_ellipse\n",
    "\n",
    "x1 = parse_ellipse(30, 20, 2, \"data/cluster1.dat\")\n",
    "x2 = parse_ellipse(30, 20, 2, \"data/cluster2.dat\")\n",
    "x3 = parse_ellipse(30, 20, 2, \"data/cluster3.dat\")\n",
    "X = np.concatenate([x1,x2,x3])\n",
    "\n",
    "z1 = [0]*len(x1)\n",
    "z2 = [1]*len(x2)\n",
    "z3 = [2]*len(x3)\n",
    "Z = np.concatenate([z1,z2,z3])\n",
    "\n",
    "ix = range(90)\n",
    "np.random.shuffle(ix)\n",
    "\n",
    "X = np.array([X[i] for i in ix])\n",
    "Z = np.array([Z[i] for i in ix])"
   ]
  },
  {
   "cell_type": "code",
   "execution_count": 72,
   "metadata": {
    "collapsed": false
   },
   "outputs": [
    {
     "name": "stdout",
     "output_type": "stream",
     "text": [
      "0.0\n"
     ]
    }
   ],
   "source": [
    "J, M = kmeans.kmeans(3, X, distance.procrustes)\n",
    "print clusval.class_error(J, Z)"
   ]
  },
  {
   "cell_type": "code",
   "execution_count": 73,
   "metadata": {
    "collapsed": false
   },
   "outputs": [
    {
     "name": "stdout",
     "output_type": "stream",
     "text": [
      "[0 2 0 1 1 0 2 1 0 0 0 2 2 1 0 2 2 1 1 0 1 2 2 0 0 1 0 0 1 0 1 1 0 1 2 1 2\n",
      " 2 1 1 2 0 2 2 1 0 2 2 0 2 0 2 0 1 2 0 1 1 0 0 2 1 2 0 1 1 1 1 0 2 2 1 0 1\n",
      " 2 1 2 2 0 0 0 1 2 0 0 2 1 2 1 2]\n",
      "[0 1 0 2 2 0 1 2 0 0 0 1 1 2 0 1 1 2 2 0 2 1 1 0 0 2 0 0 2 0 2 2 0 2 1 2 1\n",
      " 1 2 2 1 0 1 1 2 0 1 1 0 1 0 1 0 2 1 0 2 2 0 0 1 2 1 0 2 2 2 2 0 1 1 2 0 2\n",
      " 1 2 1 1 0 0 0 2 1 0 0 1 2 1 2 1]\n"
     ]
    }
   ],
   "source": [
    "print J\n",
    "print Z"
   ]
  },
  {
   "cell_type": "code",
   "execution_count": 75,
   "metadata": {
    "collapsed": false
   },
   "outputs": [
    {
     "data": {
      "text/plain": [
       "0.35999999999999988"
      ]
     },
     "execution_count": 75,
     "metadata": {},
     "output_type": "execute_result"
    }
   ],
   "source": [
    "distance.procrustes(x1[0],x2[0])"
   ]
  },
  {
   "cell_type": "code",
   "execution_count": 47,
   "metadata": {
    "collapsed": false
   },
   "outputs": [
    {
     "data": {
      "text/plain": [
       "0.0"
      ]
     },
     "execution_count": 47,
     "metadata": {},
     "output_type": "execute_result"
    }
   ],
   "source": [
    "J, M = kmedoids.kmedoids(3, distance.procrustes_matrix(X))\n",
    "clusval.class_error(Z, J)"
   ]
  },
  {
   "cell_type": "code",
   "execution_count": 48,
   "metadata": {
    "collapsed": false
   },
   "outputs": [
    {
     "data": {
      "text/plain": [
       "0.4666666666666667"
      ]
     },
     "execution_count": 48,
     "metadata": {},
     "output_type": "execute_result"
    }
   ],
   "source": [
    "X1 = X.reshape(len(X),40)\n",
    "km = KMeans(3)\n",
    "J = km.fit(X1).labels_\n",
    "clusval.class_error(Z, J)"
   ]
  },
  {
   "cell_type": "code",
   "execution_count": null,
   "metadata": {
    "collapsed": true
   },
   "outputs": [],
   "source": [
    "fig = plt.figure()\n",
    "ax = fig.add_subplot(111)\n",
    "for z in Z:\n",
    "ax1 = fig.add_subplot(132, sharex=ax)\n",
    "errplot(ax1, nrange, kmeans_metric, 'K-means', 'red', 'Error', yrange=[0,.3])\n",
    "ax2 = fig.add_subplot(133, sharex=ax)\n",
    "errplot(ax2, nrange, kmeans_sklearn_metric, 'K-means/Sklearn', 'green', 'Error', yrange=[0,.3])"
   ]
  },
  {
   "cell_type": "code",
   "execution_count": null,
   "metadata": {
    "collapsed": true
   },
   "outputs": [],
   "source": []
  }
 ],
 "metadata": {
  "kernelspec": {
   "display_name": "Python 2",
   "language": "python",
   "name": "python2"
  },
  "language_info": {
   "codemirror_mode": {
    "name": "ipython",
    "version": 2
   },
   "file_extension": ".py",
   "mimetype": "text/x-python",
   "name": "python",
   "nbconvert_exporter": "python",
   "pygments_lexer": "ipython2",
   "version": "2.7.6"
  }
 },
 "nbformat": 4,
 "nbformat_minor": 0
}
