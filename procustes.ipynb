{
 "cells": [
  {
   "cell_type": "markdown",
   "metadata": {},
   "source": [
    "### Procustes\n",
    "\n",
    "Guilherme Franca (guifranca@gmail.com) 08/21/2016\n",
    "\n",
    "Procustes is a statistical method to analyse the distribution of shapes. It compares two objects by superimposing them through translation, rotation, and scaling (and possibly reflection). These are orthogonal transformations.\n",
    "\n",
    "Consider a set of 2D points $I = \\{ (x_i, y_i) \\}$, $i=1,\\dotsc,n$. Then one can performs the following transformations.\n",
    "\n",
    "**Translation + Scaling.** Let\n",
    "$$\n",
    "\\bar{x} = \\dfrac{1}{n}\\sum_{i=1}^n x_i, \\qquad\n",
    "\\bar{y} = \\dfrac{1}{n}\\sum_{i=1}^n y_i\n",
    "$$\n",
    "and \n",
    "$$\n",
    "s^2 = \\dfrac{1}{n} \\sum_{i=1}^n \\left\\{ (x_i-\\bar{x})^2 + (y_i - \\bar{y})^2 \\right\\}\n",
    "$$\n",
    "Then one performs\n",
    "$$\n",
    "x_i \\to \\dfrac{x_i - \\bar{x}}{s}, \\qquad y_i \\to \\dfrac{y_i - \\bar{y}}{s}\n",
    "$$\n",
    "This transformation translates the points to the origin and set the size of the object to $s=1$.\n",
    "\n",
    "**Rotation.** Let $J = \\{ (w_i, z_i) \\}$, for $i=1,\\dotsc,n$. One rotates $J$ as\n",
    "$$\n",
    "\\begin{pmatrix} u_i \\\\ v_i \\end{pmatrix} = \\begin{pmatrix} \\cos\\theta & -\\sin\\theta \\\\ \\sin\\theta & \\cos\\theta \\end{pmatrix} \\begin{pmatrix} w_i \\\\ z_i \\end{pmatrix}\n",
    "$$\n",
    "and minimizes the objective\n",
    "$$\n",
    "\\sum_{i=1}^n (u_i - x_i)^2 + (v_i - y_i)^2\n",
    "$$\n",
    "This yields\n",
    "$$\n",
    "\\tan\\theta = \\dfrac{\\sum_{i=1}^n (w_i y_i - z_i x_i)}{\\sum_{i=1}^n (w_i x_i + z_i y_i)}\n",
    "$$\n",
    "\n",
    "**Distance.** After the above transformations were performed the distance between two shapes is then given by\n",
    "$$\n",
    "d^2(J, I) = \\sum_{i=1}^n \\big\\{(u_i - x_i)^2 + (v_i - y_i)^2 \\big\\}\n",
    "$$\n",
    "This is usually called Procustes distance.\n",
    "\n",
    "Above we are comparing only two objects. For a set of objects one finds a reference object from which the other objects are superimposed to. The algorithm is:\n",
    "\n",
    "1. Arbitrarily choose a reference shape $I_0$.\n",
    "2. Superimpose all objects to $I_0$.\n",
    "3. Compute the mean shape $\\bar{I}$ of the current set of superimposed shapes.\n",
    "4. If $d^2(\\bar{I}, I_0) > c$, for some constant $c$, set $I_0 = \\bar{I}$ and continue from step 2 above."
   ]
  },
  {
   "cell_type": "code",
   "execution_count": null,
   "metadata": {
    "collapsed": true
   },
   "outputs": [],
   "source": []
  }
 ],
 "metadata": {
  "kernelspec": {
   "display_name": "Python 2",
   "language": "python",
   "name": "python2"
  },
  "language_info": {
   "codemirror_mode": {
    "name": "ipython",
    "version": 2
   },
   "file_extension": ".py",
   "mimetype": "text/x-python",
   "name": "python",
   "nbconvert_exporter": "python",
   "pygments_lexer": "ipython2",
   "version": "2.7.6"
  }
 },
 "nbformat": 4,
 "nbformat_minor": 0
}
