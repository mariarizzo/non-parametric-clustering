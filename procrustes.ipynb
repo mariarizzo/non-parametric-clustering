{
 "cells": [
  {
   "cell_type": "markdown",
   "metadata": {},
   "source": [
    "### Procrustes\n",
    "\n",
    "Guilherme Franca (guifranca@gmail.com) 08/21/2016\n",
    "\n",
    "Procustes is a statistical method to analyse the distribution of shapes. It compares two objects by superimposing them through translation, rotation, and scaling (and possibly reflection). These are orthogonal transformations.\n",
    "\n",
    "Consider a set of 2D points $I = \\{ (x_i, y_i) \\}$, $i=1,\\dotsc,n$. Then one can performs the following transformations.\n",
    "\n",
    "**Translation + Scaling.** Let\n",
    "$$\n",
    "\\bar{x} = \\dfrac{1}{n}\\sum_{i=1}^n x_i, \\qquad\n",
    "\\bar{y} = \\dfrac{1}{n}\\sum_{i=1}^n y_i\n",
    "$$\n",
    "and \n",
    "$$\n",
    "s^2 = \\dfrac{1}{n} \\sum_{i=1}^n \\left\\{ (x_i-\\bar{x})^2 + (y_i - \\bar{y})^2 \\right\\}\n",
    "$$\n",
    "Then one performs\n",
    "$$\n",
    "x_i \\to \\dfrac{x_i - \\bar{x}}{s}, \\qquad y_i \\to \\dfrac{y_i - \\bar{y}}{s}\n",
    "$$\n",
    "This transformation translates the points to the origin and set the size of the object to $s=1$.\n",
    "\n",
    "**Rotation.** Let $J = \\{ (w_i, z_i) \\}$, for $i=1,\\dotsc,n$. One rotates $J$ as\n",
    "$$\n",
    "\\begin{pmatrix} u_i \\\\ v_i \\end{pmatrix} = \\begin{pmatrix} \\cos\\theta & -\\sin\\theta \\\\ \\sin\\theta & \\cos\\theta \\end{pmatrix} \\begin{pmatrix} w_i \\\\ z_i \\end{pmatrix}\n",
    "$$\n",
    "and minimizes the objective\n",
    "$$\n",
    "\\sum_{i=1}^n (u_i - x_i)^2 + (v_i - y_i)^2\n",
    "$$\n",
    "This yields\n",
    "$$\n",
    "\\tan\\theta = \\dfrac{\\sum_{i=1}^n (w_i y_i - z_i x_i)}{\\sum_{i=1}^n (w_i x_i + z_i y_i)}\n",
    "$$\n",
    "\n",
    "**Distance.** After the above transformations were performed the distance between two shapes is then given by\n",
    "$$\n",
    "d^2(J, I) = \\sum_{i=1}^n \\big\\{(u_i - x_i)^2 + (v_i - y_i)^2 \\big\\}\n",
    "$$\n",
    "This is usually called Procustes distance.\n",
    "\n",
    "Above we are comparing only two objects. For a set of objects one finds a reference object from which the other objects are superimposed to. The algorithm is:\n",
    "\n",
    "1. Arbitrarily choose a reference shape $I_0$.\n",
    "2. Superimpose all objects to $I_0$.\n",
    "3. Compute the mean shape $\\bar{I}$ of the current set of superimposed shapes.\n",
    "4. If $d^2(\\bar{I}, I_0) > c$, for some constant $c$, set $I_0 = \\bar{I}$ and continue from step 2 above."
   ]
  },
  {
   "cell_type": "code",
   "execution_count": 40,
   "metadata": {
    "collapsed": false
   },
   "outputs": [],
   "source": [
    "%matplotlib inline\n",
    "\n",
    "import matplotlib.pyplot as plt\n",
    "import matplotlib.cm as cm\n",
    "import numpy as np\n",
    "from sklearn import datasets\n",
    "from sklearn import metrics\n",
    "\n",
    "import kmedoids\n",
    "import kmeans\n",
    "import distance\n",
    "import clusval\n",
    "\n",
    "golden = (1+np.sqrt(5))/2"
   ]
  },
  {
   "cell_type": "code",
   "execution_count": 31,
   "metadata": {
    "collapsed": true
   },
   "outputs": [],
   "source": [
    "digits = datasets.load_digits()\n",
    "images = digits.images"
   ]
  },
  {
   "cell_type": "code",
   "execution_count": 35,
   "metadata": {
    "collapsed": false
   },
   "outputs": [
    {
     "data": {
      "image/png": "[encoded data removed]",
      "text/plain": [
       "<matplotlib.figure.Figure at 0x7fc8e8ace550>"
      ]
     },
     "metadata": {},
     "output_type": "display_data"
    }
   ],
   "source": [
    "# picking some digits\n",
    "n = [100, 100, 100]\n",
    "d = [1, 5, 8]\n",
    "labels = np.concatenate([[i]*x for i, x in enumerate(n)])\n",
    "\n",
    "data = np.concatenate([images[np.where(digits.target==i)][:m] for i, m in zip(d, n)])\n",
    "\n",
    "coords = np.array([i for i in range(len(data))])\n",
    "\n",
    "D = kmedoids.procrustes_distance(data)\n",
    "\n",
    "J, M = kmedoids.kmedoids(len(n), D)\n",
    "\n",
    "fig = plt.figure(figsize=(30,1.5))\n",
    "ax = fig.add_subplot(111)\n",
    "ax.set_xticks([])\n",
    "ax.set_yticks([])\n",
    "\n",
    "s = 50\n",
    "cc = cm.spectral(np.linspace(0.1, 0.3, len(n)))\n",
    "for k in range(len(n)):\n",
    "    idx = np.where(labels==k)[0]\n",
    "    ax.scatter(coords[idx], [0]*len(idx), color=cc[k], s=s, marker='s')\n",
    "\n",
    "cc = cm.spectral(np.linspace(0.31, 0.7, len(n)))\n",
    "for k in range(len(n)):\n",
    "    idx = np.where(J==k)[0]\n",
    "    ax.scatter(coords[idx], [1]*len(idx), color=cc[k], s=s, marker='s')\n",
    "    \n",
    "ax.set_xticks([])\n",
    "ax.set_yticks([])\n",
    "ax.set_ylim(-1, 4)\n",
    "fig.tight_layout()"
   ]
  },
  {
   "cell_type": "code",
   "execution_count": 37,
   "metadata": {
    "collapsed": false
   },
   "outputs": [
    {
     "name": "stdout",
     "output_type": "stream",
     "text": [
      "0.367647932419\n",
      "0.296666666667\n"
     ]
    }
   ],
   "source": [
    "print metrics.mutual_info_score(labels, J)\n",
    "print clusval.misclassification_error(labels, J)"
   ]
  },
  {
   "cell_type": "code",
   "execution_count": 50,
   "metadata": {
    "collapsed": true
   },
   "outputs": [],
   "source": [
    "numbers = [4, 2, 7]\n",
    "nrange = range(10, 170, 10)\n",
    "kmedoids_euclidean_metric, kmedoids_procrustes_metric, kmeans_sklearn_metric = clusval.MNIST_eval2(clusval.misclassification_error, numbers, nrange, num_avg=3)"
   ]
  },
  {
   "cell_type": "code",
   "execution_count": 51,
   "metadata": {
    "collapsed": false
   },
   "outputs": [
    {
     "data": {
      "image/png": "[encoded data removed]",
      "text/plain": [
       "<matplotlib.figure.Figure at 0x7fc8e7fb22d0>"
      ]
     },
     "metadata": {},
     "output_type": "display_data"
    }
   ],
   "source": [
    "def errplot(ax, xs, data, label, color, ylabel, yrange=[0,1]):\n",
    "    a = np.array(data)\n",
    "    mean = a[:,0]\n",
    "    lower = mean - a[:,1]\n",
    "    upper = a[:,2] - mean\n",
    "    error = [lower, upper]\n",
    "    ax.errorbar(xs, mean, yerr=error, label=label, color=color, ls='solid')\n",
    "    ax.plot(xs, mean, 'o', color=color)\n",
    "    ax.set_ylim(yrange)\n",
    "    ax.set_xlabel('N')\n",
    "    ax.set_ylabel(ylabel)\n",
    "    ax.legend(loc=0)\n",
    "\n",
    "fig = plt.figure(figsize=(4*golden*3,4))\n",
    "ax = fig.add_subplot(131)\n",
    "errplot(ax, nrange, kmedoids_euclidean_metric, 'K-medoids', 'blue', 'Error')\n",
    "ax1 = fig.add_subplot(132, sharex=ax)\n",
    "errplot(ax1, nrange, kmedoids_procrustes_metric, 'K-medoids/Procrustes', 'magenta', 'Error')\n",
    "ax2 = fig.add_subplot(133, sharex=ax)\n",
    "errplot(ax2, nrange, kmeans_sklearn_metric, 'K-means/Sklearn', 'green', 'Error')"
   ]
  },
  {
   "cell_type": "code",
   "execution_count": null,
   "metadata": {
    "collapsed": true
   },
   "outputs": [],
   "source": []
  }
 ],
 "metadata": {
  "kernelspec": {
   "display_name": "Python 2",
   "language": "python",
   "name": "python2"
  },
  "language_info": {
   "codemirror_mode": {
    "name": "ipython",
    "version": 2
   },
   "file_extension": ".py",
   "mimetype": "text/x-python",
   "name": "python",
   "nbconvert_exporter": "python",
   "pygments_lexer": "ipython2",
   "version": "2.7.6"
  }
 },
 "nbformat": 4,
 "nbformat_minor": 0
}
